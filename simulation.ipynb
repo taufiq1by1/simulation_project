{
 "cells": [
  {
   "cell_type": "markdown",
   "id": "8c019af9-c59c-4078-8fbc-d891928873bd",
   "metadata": {},
   "source": [
    "## LIBRARIES"
   ]
  },
  {
   "cell_type": "code",
   "execution_count": 1,
   "id": "375ff27c-306d-4cd3-80dd-803e821e8313",
   "metadata": {},
   "outputs": [],
   "source": [
    "import numpy as np\n",
    "import pandas as pd\n",
    "\n",
    "import matplotlib.pyplot as plt\n",
    "import seaborn as sns\n",
    "\n",
    "np.random.seed(42)"
   ]
  },
  {
   "cell_type": "markdown",
   "id": "3f17e136-5988-4b8c-b4bb-54ae919b2ba3",
   "metadata": {},
   "source": [
    "## FUNCTIONS"
   ]
  },
  {
   "cell_type": "code",
   "execution_count": 2,
   "id": "d8658da9-6ecb-4e52-8d9f-de55f25cc880",
   "metadata": {},
   "outputs": [],
   "source": [
    "# Function to generate exponentially distributed random numbers clipped between 0 and a maximum value\n",
    "def exp(m, n):\n",
    "    expon = np.random.exponential(scale=m) # scale = mean of exponential distribution\n",
    "    # Clip the numbers to be within the range (0 to n)\n",
    "    clipped_number = np.clip(expon, 0, n)\n",
    "    return clipped_number\n",
    "\n",
    "# Simulate a queuing system for a specified time duration\n",
    "def simulate_queuing_system(runtime):\n",
    "    \n",
    "    # Initialize an empty DataFrame with columns\n",
    "    col = ['id', 'it', 'at', 'sb', 'wt', 'st', 'se', 'spent', 'idle']\n",
    "\n",
    "    # it = interarrival time\n",
    "    # at = arrival time\n",
    "    # sb = service begin time\n",
    "    # wt = wait time (sb - at)\n",
    "    # st = service time    \n",
    "    # se = service end time    \n",
    "    # spent = time spent in the system (se - at)\n",
    "    # idle = idle time of the server (new customer's at - prev customer's se)\n",
    "    \n",
    "    df = pd.DataFrame(columns=col)\n",
    "    \n",
    "    # Initialize the first row representing the first customer\n",
    "    for m in col:\n",
    "        df.loc[0, m] = 0\n",
    "    df.loc[0, 'id'] = 1\n",
    "    df.loc[0, 'st'] = exp(4, 6)  # Service time follows an exponential distribution with mean 4 and max 6 \n",
    "    df.loc[0, 'se'] = df.loc[0, 'st']\n",
    "    df.loc[0, 'wt'] = df.loc[0, 'sb'] - df.loc[0, 'at']\n",
    "    df.loc[0, 'spent'] = df.loc[0, 'se'] - df.loc[0, 'at']\n",
    "    \n",
    "    # Iterate to simulate arrivals and service times of customers until the total service time exceeds runtime\n",
    "    i = 1\n",
    "    while df['se'].sum() < runtime:\n",
    "        df.loc[i, 'id'] = i + 1\n",
    "        df.loc[i, 'it'] = exp(5, 8)  # Interarrival time follows an exponential distribution with mean 5 and max 8\n",
    "        df.loc[i, 'at'] = df.loc[i - 1, 'at'] + df.loc[i, 'it']\n",
    "        df.loc[i, 'st'] = exp(4, 6)\n",
    "        df.loc[i, 'sb'] = max(df.loc[i - 1, 'se'], df.loc[i, 'at'])\n",
    "        df.loc[i, 'se'] = df.loc[i, 'sb'] + df.loc[i, 'st']\n",
    "        df.loc[i, 'wt'] = df.loc[i, 'sb'] - df.loc[i, 'at']\n",
    "        df.loc[i, 'spent'] = df.loc[i, 'se'] - df.loc[i, 'at']\n",
    "        if df.loc[i - 1, 'se'] < df.loc[i, 'at']:\n",
    "            df.loc[i, 'idle'] = df.loc[i, 'at'] - df.loc[i - 1, 'se']\n",
    "        else:\n",
    "            df.loc[i, 'idle'] = 0\n",
    "        i += 1\n",
    "    \n",
    "    return df"
   ]
  },
  {
   "cell_type": "markdown",
   "id": "1c57162e-9e93-472b-a9d8-0bd7b2e26e01",
   "metadata": {},
   "source": [
    "<b><center style=\"color:red;\">My Queries to TAUFIQ</center>\n",
    "</b>    \n",
    "1. Service time follows exp dist with mean 4, but why max at 6?\n",
    "2. Interarrival time follows exp dist with mean 5, but why max at 8?"
   ]
  },
  {
   "cell_type": "markdown",
   "id": "099d0663-d13c-4b4d-a865-0d732e59f62a",
   "metadata": {},
   "source": [
    "## RUNTIME: 300 Seconds"
   ]
  },
  {
   "cell_type": "code",
   "execution_count": null,
   "id": "c8fa1036-88fa-48e6-8f67-7f0472d0768f",
   "metadata": {},
   "outputs": [],
   "source": [
    "# Set the duration of the simulation\n",
    "runtime = float(input(\"Enter the time duration you want to simulate for: \"))\n",
    "\n",
    "# Simulate the queuing system\n",
    "df = simulate_queuing_system(runtime)\n",
    "\n",
    "# Display the DataFrame containing simulation results\n",
    "display(df)"
   ]
  },
  {
   "cell_type": "code",
   "execution_count": null,
   "id": "847264f3",
   "metadata": {},
   "outputs": [],
   "source": [
    "waiting_time_frequency = df['wt'].value_counts()\n",
    "sns.histplot(data=waiting_time_frequency, kde=True)\n",
    "plt.xlabel('Waiting Time')\n",
    "plt.ylabel('Frequency')\n",
    "plt.title('Histogram of Waiting Time')\n",
    "plt.show()"
   ]
  },
  {
   "cell_type": "markdown",
   "id": "de9f7d31-b5d0-475f-8f5b-bde61c244b38",
   "metadata": {},
   "source": [
    "## RUNTIME: 6000 Seconds"
   ]
  },
  {
   "cell_type": "code",
   "execution_count": null,
   "id": "d251ae1c",
   "metadata": {},
   "outputs": [],
   "source": [
    "# Set the duration of the simulation\n",
    "runtime = float(input(\"Enter the time duration you want to simulate for: \"))\n",
    "\n",
    "# Simulate the queuing system\n",
    "df = simulate_queuing_system(runtime)\n",
    "\n",
    "# Display the DataFrame containing simulation results\n",
    "display(df)"
   ]
  },
  {
   "cell_type": "code",
   "execution_count": null,
   "id": "548c52bc",
   "metadata": {},
   "outputs": [],
   "source": [
    "waiting_time_frequency = df['wt'].value_counts()\n",
    "sns.histplot(data=waiting_time_frequency, kde=True)\n",
    "plt.xlabel('Waiting Time')\n",
    "plt.ylabel('Frequency')\n",
    "plt.title('Histogram of Waiting Time')\n",
    "plt.show()"
   ]
  },
  {
   "cell_type": "code",
   "execution_count": null,
   "id": "71fde201",
   "metadata": {},
   "outputs": [],
   "source": []
  }
 ],
 "metadata": {
  "kernelspec": {
   "display_name": "Python 3 (ipykernel)",
   "language": "python",
   "name": "python3"
  },
  "language_info": {
   "codemirror_mode": {
    "name": "ipython",
    "version": 3
   },
   "file_extension": ".py",
   "mimetype": "text/x-python",
   "name": "python",
   "nbconvert_exporter": "python",
   "pygments_lexer": "ipython3",
   "version": "3.11.3"
  }
 },
 "nbformat": 4,
 "nbformat_minor": 5
}
